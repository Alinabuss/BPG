{
  "nbformat": 4,
  "nbformat_minor": 0,
  "metadata": {
    "colab": {
      "name": "NLP.ipynb",
      "provenance": [],
      "collapsed_sections": [],
      "include_colab_link": true
    },
    "kernelspec": {
      "name": "python3",
      "display_name": "Python 3"
    },
    "language_info": {
      "name": "python"
    }
  },
  "cells": [
    {
      "cell_type": "markdown",
      "metadata": {
        "id": "view-in-github",
        "colab_type": "text"
      },
      "source": [
        "<a href=\"https://colab.research.google.com/github/Sabokou/NLP/blob/main/NLP.ipynb\" target=\"_parent\"><img src=\"https://colab.research.google.com/assets/colab-badge.svg\" alt=\"Open In Colab\"/></a>"
      ]
    },
    {
      "cell_type": "code",
      "execution_count": 1,
      "metadata": {
        "colab": {
          "base_uri": "https://localhost:8080/"
        },
        "id": "GmQlFVvQ8i4W",
        "outputId": "ba15b916-9eab-41d4-e8cd-725e8825327f"
      },
      "outputs": [
        {
          "output_type": "stream",
          "name": "stdout",
          "text": [
            "--2022-01-04 15:46:02--  https://raw.githubusercontent.com/Sabokou/NLP/main/QuestionGenerator/dev_cleaned.csv\n",
            "Resolving raw.githubusercontent.com (raw.githubusercontent.com)... 185.199.108.133, 185.199.109.133, 185.199.110.133, ...\n",
            "Connecting to raw.githubusercontent.com (raw.githubusercontent.com)|185.199.108.133|:443... connected.\n",
            "HTTP request sent, awaiting response... 200 OK\n",
            "Length: 5468410 (5.2M) [text/plain]\n",
            "Saving to: ‘dev_cleaned.csv’\n",
            "\n",
            "dev_cleaned.csv     100%[===================>]   5.21M  --.-KB/s    in 0.06s   \n",
            "\n",
            "2022-01-04 15:46:03 (89.6 MB/s) - ‘dev_cleaned.csv’ saved [5468410/5468410]\n",
            "\n"
          ]
        }
      ],
      "source": [
        "!wget https://raw.githubusercontent.com/Sabokou/NLP/main/QuestionGenerator/dev_cleaned.csv"
      ]
    },
    {
      "cell_type": "code",
      "source": [
        "import pandas as pd\n",
        "import numpy as np\n",
        "from sklearn.feature_extraction.text import TfidfVectorizer\n",
        "from numpy import random"
      ],
      "metadata": {
        "id": "bQADyBkq9V5Y"
      },
      "execution_count": 2,
      "outputs": []
    },
    {
      "cell_type": "code",
      "source": [
        "data = pd.read_csv('dev_cleaned.csv', sep=\"´\")"
      ],
      "metadata": {
        "colab": {
          "base_uri": "https://localhost:8080/"
        },
        "id": "-nkLew7M9gHM",
        "outputId": "2142a730-5b17-49d0-dfb4-5fcb1f1f868f"
      },
      "execution_count": 3,
      "outputs": [
        {
          "output_type": "stream",
          "name": "stderr",
          "text": [
            "/usr/local/lib/python3.7/dist-packages/ipykernel_launcher.py:1: ParserWarning: Falling back to the 'python' engine because the separator encoded in utf-8 is > 1 char long, and the 'c' engine does not support such separators; you can avoid this warning by specifying engine='python'.\n",
            "  \"\"\"Entry point for launching an IPython kernel.\n"
          ]
        }
      ]
    },
    {
      "cell_type": "code",
      "source": [
        "data = data.drop(columns=['Frage'])"
      ],
      "metadata": {
        "id": "1gqUNLKC9oXP"
      },
      "execution_count": 4,
      "outputs": []
    },
    {
      "cell_type": "code",
      "source": [
        "data.head"
      ],
      "metadata": {
        "colab": {
          "base_uri": "https://localhost:8080/"
        },
        "id": "oilfw9ejCb1q",
        "outputId": "f5533ad5-9cf3-44ea-b171-638918b24512"
      },
      "execution_count": 5,
      "outputs": [
        {
          "output_type": "execute_result",
          "data": {
            "text/plain": [
              "<bound method NDFrame.head of                                       Kombiniertes Feld\n",
              "0     <answer> France <context> The Normans (Norman:...\n",
              "1     <answer> 10th and 11th centuries <context> The...\n",
              "2     <answer> Denmark, Iceland and Norway <context>...\n",
              "3     <answer> Rollo <context> The Normans (Norman: ...\n",
              "4     <answer> 10th century <context> The Normans (N...\n",
              "...                                                 ...\n",
              "5923  <answer> kilogram-force <context> The pound-fo...\n",
              "5924  <answer> kilopond <context> The pound-force ha...\n",
              "5925  <answer> slug <context> The pound-force has a ...\n",
              "5926  <answer> kip <context> The pound-force has a m...\n",
              "5927  <answer> sthène <context> The pound-force has ...\n",
              "\n",
              "[5928 rows x 1 columns]>"
            ]
          },
          "metadata": {},
          "execution_count": 5
        }
      ]
    },
    {
      "cell_type": "code",
      "source": [
        "def get_answer(text):\n",
        "  index_of_context = text.index('<context>')\n",
        "  index_of_answer = text.index('<answer>')\n",
        "  start_index = index_of_answer + 9\n",
        "  end_index = index_of_context - 1\n",
        "  answer_text = text[start_index : end_index]\n",
        "  return(answer_text)\n",
        "\n",
        "def get_context(text):\n",
        "  index_of_context = text.index('<context>')\n",
        "  start_index = index_of_context + 10\n",
        "  context_text = text[start_index :]\n",
        "  return(context_text)"
      ],
      "metadata": {
        "id": "pTF6wgHd_-z7"
      },
      "execution_count": 6,
      "outputs": []
    },
    {
      "cell_type": "code",
      "source": [
        "data['answer'] = data.apply(lambda row : get_answer(row['Kombiniertes Feld']), axis=1) \n",
        "data['context'] = data.apply(lambda row : get_context(row['Kombiniertes Feld']), axis=1)\n",
        "data = data.drop(columns=['Kombiniertes Feld'])"
      ],
      "metadata": {
        "id": "qlFbp9hh-k4H"
      },
      "execution_count": 7,
      "outputs": []
    },
    {
      "cell_type": "code",
      "source": [
        "data.head"
      ],
      "metadata": {
        "colab": {
          "base_uri": "https://localhost:8080/"
        },
        "id": "zsgXz_SWE0Te",
        "outputId": "5fd393d7-b67d-4fd4-a6ec-e0f4d97eb2b2"
      },
      "execution_count": 8,
      "outputs": [
        {
          "output_type": "execute_result",
          "data": {
            "text/plain": [
              "<bound method NDFrame.head of                            answer                                            context\n",
              "0                          France  The Normans (Norman: Nourmands; French: Norman...\n",
              "1         10th and 11th centuries  The Normans (Norman: Nourmands; French: Norman...\n",
              "2     Denmark, Iceland and Norway  The Normans (Norman: Nourmands; French: Norman...\n",
              "3                           Rollo  The Normans (Norman: Nourmands; French: Norman...\n",
              "4                    10th century  The Normans (Norman: Nourmands; French: Norman...\n",
              "...                           ...                                                ...\n",
              "5923               kilogram-force  The pound-force has a metric counterpart, less...\n",
              "5924                     kilopond  The pound-force has a metric counterpart, less...\n",
              "5925                         slug  The pound-force has a metric counterpart, less...\n",
              "5926                          kip  The pound-force has a metric counterpart, less...\n",
              "5927                       sthène  The pound-force has a metric counterpart, less...\n",
              "\n",
              "[5928 rows x 2 columns]>"
            ]
          },
          "metadata": {},
          "execution_count": 8
        }
      ]
    },
    {
      "cell_type": "code",
      "source": [
        "def pick_random_question(data):\n",
        "    '''\n",
        "    Chooses a random question from the data\n",
        "\n",
        "    Input: df (pandas DataFrame), containing cards q&a pairs of the current topic selected\n",
        "\n",
        "    Output: tuple, index (int) DataFrame index of question choosen,  row of DataFrame at index\n",
        "    '''\n",
        "    length=len(data)-1\n",
        "    index=random.randint(0,length)\n",
        "    return data['context'].iloc[index]"
      ],
      "metadata": {
        "id": "No0XTbxBHLWT"
      },
      "execution_count": 9,
      "outputs": []
    },
    {
      "cell_type": "code",
      "source": [
        "#pick_random_question(data)\n",
        "correct_context =\"In the modern industrialized world, construction usually involves the translation of designs into reality. A formal design team may be assembled to plan the physical proceedings, and to integrate those proceedings with the other parts. The design usually consists of drawings and specifications, usually prepared by a design team including Architect, civil engineers, mechanical engineers, electrical engineers, structural engineers, fire protection engineers, planning consultants, architectural consultants, and archaeological consultants. The design team is most commonly employed by (i.e. in contract with) the property owner. Under this system, once the design is completed by the design team, a number of construction companies or construction management companies may then be asked to make a bid for the work, either based directly on the design, or on the basis of drawings and a bill of quantities provided by a quantity surveyor. Following evaluation of bids, the owner typically awards a contract to the most cost efficient bidder.\""
      ],
      "metadata": {
        "id": "dk0hiKTuIX0t"
      },
      "execution_count": 10,
      "outputs": []
    },
    {
      "cell_type": "code",
      "source": [
        "def get_similarity(personal, correct):\n",
        "  corpus = [personal, correct]\n",
        "  vect = TfidfVectorizer(min_df=1, stop_words=\"english\")\n",
        "  tfidf = vect.fit_transform(corpus) \n",
        "  pairwise_similarity = tfidf * tfidf.T\n",
        "  pairwise_similarity_arr = pairwise_similarity.toarray()\n",
        "  score = pairwise_similarity_arr[0][1]\n",
        "  print(score)"
      ],
      "metadata": {
        "id": "RsAeH205JaN2"
      },
      "execution_count": 11,
      "outputs": []
    },
    {
      "cell_type": "code",
      "source": [
        "#personal_context = input(\"Context: \")\n",
        "personal_context = \"In the modern industrialized world, construction the translation of designs into reality. A formal may be assembled to plan the physical, and to integrate those proceedings with the other parts. The design usually consists of drawings and specifications, usually prepared by a design team including Architect, civil engineers, mechanical engineers, electrical engineers, structural engineers, fire protection engineers, planning consultants, architectural consultants, and archaeological consultants. The design team is most commonly employed by (i.e. in contract with) the property owner. Under this system, once the design is completed by the design team, a number of construction companies or construction management companies may then be asked to make a bid for the work, either based directly on the design, or on the basis of drawings and a bill of quantities provided by a quantity surveyor. Following evaluation of bids, awards a contract to the cost efficient bidder.\""
      ],
      "metadata": {
        "id": "hR5L_79BJL7E"
      },
      "execution_count": 12,
      "outputs": []
    },
    {
      "cell_type": "code",
      "source": [
        "get_similarity(personal_context, correct_context)"
      ],
      "metadata": {
        "colab": {
          "base_uri": "https://localhost:8080/"
        },
        "id": "-uA615BDJDpG",
        "outputId": "49c30b28-5ad2-4afd-babb-9d96dc5cb410"
      },
      "execution_count": 13,
      "outputs": [
        {
          "output_type": "stream",
          "name": "stdout",
          "text": [
            "0.979090922833454\n"
          ]
        }
      ]
    },
    {
      "cell_type": "code",
      "source": [
        "def check_if_correct(correct_answer, my_answer):\n",
        "  corpus = [my_answer, correct_answer]\n",
        "  vect = TfidfVectorizer(min_df=1, stop_words=\"english\")\n",
        "  tfidf = vect.fit_transform(corpus) \n",
        "  pairwise_similarity = tfidf * tfidf.T\n",
        "  pairwise_similarity_arr = pairwise_similarity.toarray()\n",
        "  score = pairwise_similarity_arr[0][1]\n",
        "  print(score)\n",
        "  if score > 0.5:\n",
        "    return True\n",
        "    print(\"True\")\n",
        "  else:\n",
        "    return False\n",
        "    print(\"False\")"
      ],
      "metadata": {
        "id": "Wxz3jt-5LdM5"
      },
      "execution_count": 14,
      "outputs": []
    },
    {
      "cell_type": "code",
      "source": [
        "check_if_correct(\"This is a Python file\", \"This is a Jupyter Notebook file\")"
      ],
      "metadata": {
        "colab": {
          "base_uri": "https://localhost:8080/"
        },
        "id": "hqYhNoRxw4AQ",
        "outputId": "a4e4d8a5-bc1e-4f73-b308-8621fa60c6ac"
      },
      "execution_count": 15,
      "outputs": [
        {
          "output_type": "stream",
          "name": "stdout",
          "text": [
            "0.2605556710562624\n"
          ]
        },
        {
          "output_type": "execute_result",
          "data": {
            "text/plain": [
              "False"
            ]
          },
          "metadata": {},
          "execution_count": 15
        }
      ]
    }
  ]
}