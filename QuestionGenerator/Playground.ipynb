{
 "cells": [
  {
   "cell_type": "code",
   "execution_count": 1,
   "outputs": [],
   "source": [
    "import json\n",
    "with open(\"dev-v2.0_full.json\", \"r\") as f:\n",
    "    output = json.load(f)"
   ],
   "metadata": {
    "collapsed": false,
    "pycharm": {
     "name": "#%%\n"
    }
   }
  },
  {
   "cell_type": "code",
   "execution_count": 2,
   "outputs": [],
   "source": [
    "output = output.get(\"data\")"
   ],
   "metadata": {
    "collapsed": false,
    "pycharm": {
     "name": "#%%\n"
    }
   }
  },
  {
   "cell_type": "code",
   "execution_count": 6,
   "outputs": [],
   "source": [
    "liste_to_df = list()\n",
    "for i in output[:]:\n",
    "    title = i.get(\"title\")\n",
    "    paragrahs = i.get(\"paragraphs\")\n",
    "    # print(\"I-Keys:\", i.keys())\n",
    "    for j in paragrahs:\n",
    "        quest_list = j.get(\"qas\")\n",
    "        context =\"<context> \" + j.get(\"context\")\n",
    "        # print(\"\\n\\nJ-Keys:\",j.keys())\n",
    "        for k in quest_list:\n",
    "            # print(\"\\n\\nK-Keys:\", k.keys())\n",
    "            if not k.get(\"is_impossible\"):\n",
    "                question = k.get(\"question\")\n",
    "                question_id = k.get(\"id\")\n",
    "                answers = \"<answer> \" + k.get(\"answers\")[0].get(\"text\") + \" \"\n",
    "                combined_for_model = answers + context\n",
    "                # print(f\"Thema:{title}\\nFrage:{question}\\nAntwort:{answers}\\nKontext:{context}\\n\\n\")\n",
    "                liste_to_df.append([title, question, answers, context, combined_for_model])\n"
   ],
   "metadata": {
    "collapsed": false,
    "pycharm": {
     "name": "#%%\n"
    }
   }
  },
  {
   "cell_type": "code",
   "execution_count": 7,
   "outputs": [],
   "source": [
    "import pandas as pd\n",
    "df = pd.DataFrame(liste_to_df, columns=[\"Thema\", \"Frage\", \"Antwort\", \"Kontext\", \"Kombiniertes Feld\"])"
   ],
   "metadata": {
    "collapsed": false,
    "pycharm": {
     "name": "#%%\n"
    }
   }
  },
  {
   "cell_type": "code",
   "execution_count": 8,
   "outputs": [
    {
     "data": {
      "text/plain": "     Thema                                              Frage  \\\n0  Normans               In what country is Normandy located?   \n1  Normans                 When were the Normans in Normandy?   \n2  Normans      From which countries did the Norse originate?   \n3  Normans                          Who was the Norse leader?   \n4  Normans  What century did the Normans first gain their ...   \n\n                                 Antwort  \\\n0                       <answer> France    \n1      <answer> 10th and 11th centuries    \n2  <answer> Denmark, Iceland and Norway    \n3                        <answer> Rollo    \n4                 <answer> 10th century    \n\n                                             Kontext  \\\n0  <context> The Normans (Norman: Nourmands; Fren...   \n1  <context> The Normans (Norman: Nourmands; Fren...   \n2  <context> The Normans (Norman: Nourmands; Fren...   \n3  <context> The Normans (Norman: Nourmands; Fren...   \n4  <context> The Normans (Norman: Nourmands; Fren...   \n\n                                   Kombiniertes Feld  \n0  <answer> France <context> The Normans (Norman:...  \n1  <answer> 10th and 11th centuries <context> The...  \n2  <answer> Denmark, Iceland and Norway <context>...  \n3  <answer> Rollo <context> The Normans (Norman: ...  \n4  <answer> 10th century <context> The Normans (N...  ",
      "text/html": "<div>\n<style scoped>\n    .dataframe tbody tr th:only-of-type {\n        vertical-align: middle;\n    }\n\n    .dataframe tbody tr th {\n        vertical-align: top;\n    }\n\n    .dataframe thead th {\n        text-align: right;\n    }\n</style>\n<table border=\"1\" class=\"dataframe\">\n  <thead>\n    <tr style=\"text-align: right;\">\n      <th></th>\n      <th>Thema</th>\n      <th>Frage</th>\n      <th>Antwort</th>\n      <th>Kontext</th>\n      <th>Kombiniertes Feld</th>\n    </tr>\n  </thead>\n  <tbody>\n    <tr>\n      <th>0</th>\n      <td>Normans</td>\n      <td>In what country is Normandy located?</td>\n      <td>&lt;answer&gt; France</td>\n      <td>&lt;context&gt; The Normans (Norman: Nourmands; Fren...</td>\n      <td>&lt;answer&gt; France &lt;context&gt; The Normans (Norman:...</td>\n    </tr>\n    <tr>\n      <th>1</th>\n      <td>Normans</td>\n      <td>When were the Normans in Normandy?</td>\n      <td>&lt;answer&gt; 10th and 11th centuries</td>\n      <td>&lt;context&gt; The Normans (Norman: Nourmands; Fren...</td>\n      <td>&lt;answer&gt; 10th and 11th centuries &lt;context&gt; The...</td>\n    </tr>\n    <tr>\n      <th>2</th>\n      <td>Normans</td>\n      <td>From which countries did the Norse originate?</td>\n      <td>&lt;answer&gt; Denmark, Iceland and Norway</td>\n      <td>&lt;context&gt; The Normans (Norman: Nourmands; Fren...</td>\n      <td>&lt;answer&gt; Denmark, Iceland and Norway &lt;context&gt;...</td>\n    </tr>\n    <tr>\n      <th>3</th>\n      <td>Normans</td>\n      <td>Who was the Norse leader?</td>\n      <td>&lt;answer&gt; Rollo</td>\n      <td>&lt;context&gt; The Normans (Norman: Nourmands; Fren...</td>\n      <td>&lt;answer&gt; Rollo &lt;context&gt; The Normans (Norman: ...</td>\n    </tr>\n    <tr>\n      <th>4</th>\n      <td>Normans</td>\n      <td>What century did the Normans first gain their ...</td>\n      <td>&lt;answer&gt; 10th century</td>\n      <td>&lt;context&gt; The Normans (Norman: Nourmands; Fren...</td>\n      <td>&lt;answer&gt; 10th century &lt;context&gt; The Normans (N...</td>\n    </tr>\n  </tbody>\n</table>\n</div>"
     },
     "execution_count": 8,
     "metadata": {},
     "output_type": "execute_result"
    }
   ],
   "source": [
    "df.head()"
   ],
   "metadata": {
    "collapsed": false,
    "pycharm": {
     "name": "#%%\n"
    }
   }
  },
  {
   "cell_type": "code",
   "execution_count": 15,
   "outputs": [],
   "source": [
    "df.to_csv(\"dev_cleaned.csv\", sep=\"´\", columns=[\"Frage\", \"Kombiniertes Feld\"], index=False)"
   ],
   "metadata": {
    "collapsed": false,
    "pycharm": {
     "name": "#%%\n"
    }
   }
  },
  {
   "cell_type": "code",
   "execution_count": null,
   "outputs": [],
   "source": [],
   "metadata": {
    "collapsed": false,
    "pycharm": {
     "name": "#%%\n"
    }
   }
  }
 ],
 "metadata": {
  "kernelspec": {
   "display_name": "Python 3",
   "language": "python",
   "name": "python3"
  },
  "language_info": {
   "codemirror_mode": {
    "name": "ipython",
    "version": 2
   },
   "file_extension": ".py",
   "mimetype": "text/x-python",
   "name": "python",
   "nbconvert_exporter": "python",
   "pygments_lexer": "ipython2",
   "version": "2.7.6"
  }
 },
 "nbformat": 4,
 "nbformat_minor": 0
}