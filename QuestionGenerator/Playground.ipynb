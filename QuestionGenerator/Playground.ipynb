{
 "cells": [
  {
   "cell_type": "code",
   "execution_count": 10,
   "outputs": [],
   "source": [
    "import json\n",
    "with open(\"dev-v2.0_full.json\", \"r\") as f:\n",
    "    output = json.load(f)"
   ],
   "metadata": {
    "collapsed": false,
    "pycharm": {
     "name": "#%%\n"
    }
   }
  },
  {
   "cell_type": "code",
   "execution_count": 11,
   "outputs": [],
   "source": [
    "output = output.get(\"data\")"
   ],
   "metadata": {
    "collapsed": false,
    "pycharm": {
     "name": "#%%\n"
    }
   }
  },
  {
   "cell_type": "code",
   "execution_count": 13,
   "outputs": [],
   "source": [
    "liste_to_df = list()\n",
    "for i in output[:]:\n",
    "    title = i.get(\"title\")\n",
    "    paragrahs = i.get(\"paragraphs\")\n",
    "    # print(\"I-Keys:\", i.keys())\n",
    "    for j in paragrahs:\n",
    "        quest_list = j.get(\"qas\")\n",
    "        context = j.get(\"context\")\n",
    "        # print(\"\\n\\nJ-Keys:\",j.keys())\n",
    "        for k in quest_list:\n",
    "            # print(\"\\n\\nK-Keys:\", k.keys())\n",
    "            if not k.get(\"is_impossible\"):\n",
    "                question = k.get(\"question\")\n",
    "                question_id = k.get(\"id\")\n",
    "                answers = k.get(\"answers\")[0].get(\"text\")\n",
    "                # print(f\"Thema:{title}\\nFrage:{question}\\nAntwort:{answers}\\nKontext:{context}\\n\\n\")\n",
    "                liste_to_df.append([question_id, title, question, answers, context])\n"
   ],
   "metadata": {
    "collapsed": false,
    "pycharm": {
     "name": "#%%\n"
    }
   }
  },
  {
   "cell_type": "code",
   "execution_count": 14,
   "outputs": [],
   "source": [
    "import pandas as pd\n",
    "df = pd.DataFrame(liste_to_df, columns=[\"FragenID\", \"Thema\", \"Frage\", \"Antwort\", \"Kontext\"])"
   ],
   "metadata": {
    "collapsed": false,
    "pycharm": {
     "name": "#%%\n"
    }
   }
  },
  {
   "cell_type": "code",
   "execution_count": 15,
   "outputs": [
    {
     "data": {
      "text/plain": "                   FragenID    Thema  \\\n0  56ddde6b9a695914005b9628  Normans   \n1  56ddde6b9a695914005b9629  Normans   \n2  56ddde6b9a695914005b962a  Normans   \n3  56ddde6b9a695914005b962b  Normans   \n4  56ddde6b9a695914005b962c  Normans   \n\n                                               Frage  \\\n0               In what country is Normandy located?   \n1                 When were the Normans in Normandy?   \n2      From which countries did the Norse originate?   \n3                          Who was the Norse leader?   \n4  What century did the Normans first gain their ...   \n\n                       Antwort  \\\n0                       France   \n1      10th and 11th centuries   \n2  Denmark, Iceland and Norway   \n3                        Rollo   \n4                 10th century   \n\n                                             Kontext  \n0  The Normans (Norman: Nourmands; French: Norman...  \n1  The Normans (Norman: Nourmands; French: Norman...  \n2  The Normans (Norman: Nourmands; French: Norman...  \n3  The Normans (Norman: Nourmands; French: Norman...  \n4  The Normans (Norman: Nourmands; French: Norman...  ",
      "text/html": "<div>\n<style scoped>\n    .dataframe tbody tr th:only-of-type {\n        vertical-align: middle;\n    }\n\n    .dataframe tbody tr th {\n        vertical-align: top;\n    }\n\n    .dataframe thead th {\n        text-align: right;\n    }\n</style>\n<table border=\"1\" class=\"dataframe\">\n  <thead>\n    <tr style=\"text-align: right;\">\n      <th></th>\n      <th>FragenID</th>\n      <th>Thema</th>\n      <th>Frage</th>\n      <th>Antwort</th>\n      <th>Kontext</th>\n    </tr>\n  </thead>\n  <tbody>\n    <tr>\n      <th>0</th>\n      <td>56ddde6b9a695914005b9628</td>\n      <td>Normans</td>\n      <td>In what country is Normandy located?</td>\n      <td>France</td>\n      <td>The Normans (Norman: Nourmands; French: Norman...</td>\n    </tr>\n    <tr>\n      <th>1</th>\n      <td>56ddde6b9a695914005b9629</td>\n      <td>Normans</td>\n      <td>When were the Normans in Normandy?</td>\n      <td>10th and 11th centuries</td>\n      <td>The Normans (Norman: Nourmands; French: Norman...</td>\n    </tr>\n    <tr>\n      <th>2</th>\n      <td>56ddde6b9a695914005b962a</td>\n      <td>Normans</td>\n      <td>From which countries did the Norse originate?</td>\n      <td>Denmark, Iceland and Norway</td>\n      <td>The Normans (Norman: Nourmands; French: Norman...</td>\n    </tr>\n    <tr>\n      <th>3</th>\n      <td>56ddde6b9a695914005b962b</td>\n      <td>Normans</td>\n      <td>Who was the Norse leader?</td>\n      <td>Rollo</td>\n      <td>The Normans (Norman: Nourmands; French: Norman...</td>\n    </tr>\n    <tr>\n      <th>4</th>\n      <td>56ddde6b9a695914005b962c</td>\n      <td>Normans</td>\n      <td>What century did the Normans first gain their ...</td>\n      <td>10th century</td>\n      <td>The Normans (Norman: Nourmands; French: Norman...</td>\n    </tr>\n  </tbody>\n</table>\n</div>"
     },
     "execution_count": 15,
     "metadata": {},
     "output_type": "execute_result"
    }
   ],
   "source": [
    "df.head()"
   ],
   "metadata": {
    "collapsed": false,
    "pycharm": {
     "name": "#%%\n"
    }
   }
  },
  {
   "cell_type": "code",
   "execution_count": null,
   "outputs": [],
   "source": [],
   "metadata": {
    "collapsed": false,
    "pycharm": {
     "name": "#%%\n"
    }
   }
  }
 ],
 "metadata": {
  "kernelspec": {
   "display_name": "Python 3",
   "language": "python",
   "name": "python3"
  },
  "language_info": {
   "codemirror_mode": {
    "name": "ipython",
    "version": 2
   },
   "file_extension": ".py",
   "mimetype": "text/x-python",
   "name": "python",
   "nbconvert_exporter": "python",
   "pygments_lexer": "ipython2",
   "version": "2.7.6"
  }
 },
 "nbformat": 4,
 "nbformat_minor": 0
}